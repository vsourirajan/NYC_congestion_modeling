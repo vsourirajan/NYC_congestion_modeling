{
 "cells": [
  {
   "cell_type": "code",
   "execution_count": 61,
   "metadata": {},
   "outputs": [],
   "source": [
    "import pandas as pd\n",
    "import numpy as np\n",
    "import seaborn as sns\n",
    "import matplotlib.pyplot as plt"
   ]
  },
  {
   "cell_type": "code",
   "execution_count": 62,
   "metadata": {},
   "outputs": [
    {
     "data": {
      "text/html": [
       "<div>\n",
       "<style scoped>\n",
       "    .dataframe tbody tr th:only-of-type {\n",
       "        vertical-align: middle;\n",
       "    }\n",
       "\n",
       "    .dataframe tbody tr th {\n",
       "        vertical-align: top;\n",
       "    }\n",
       "\n",
       "    .dataframe thead th {\n",
       "        text-align: right;\n",
       "    }\n",
       "</style>\n",
       "<table border=\"1\" class=\"dataframe\">\n",
       "  <thead>\n",
       "    <tr style=\"text-align: right;\">\n",
       "      <th></th>\n",
       "      <th>State</th>\n",
       "      <th>Start_Time</th>\n",
       "      <th>End_Time</th>\n",
       "      <th>Total_Cars</th>\n",
       "    </tr>\n",
       "  </thead>\n",
       "  <tbody>\n",
       "    <tr>\n",
       "      <th>0</th>\n",
       "      <td>0</td>\n",
       "      <td>0</td>\n",
       "      <td>11</td>\n",
       "      <td>5237</td>\n",
       "    </tr>\n",
       "    <tr>\n",
       "      <th>1</th>\n",
       "      <td>1</td>\n",
       "      <td>11</td>\n",
       "      <td>23</td>\n",
       "      <td>15766</td>\n",
       "    </tr>\n",
       "    <tr>\n",
       "      <th>2</th>\n",
       "      <td>0</td>\n",
       "      <td>23</td>\n",
       "      <td>31</td>\n",
       "      <td>3258</td>\n",
       "    </tr>\n",
       "    <tr>\n",
       "      <th>3</th>\n",
       "      <td>1</td>\n",
       "      <td>31</td>\n",
       "      <td>35</td>\n",
       "      <td>5637</td>\n",
       "    </tr>\n",
       "    <tr>\n",
       "      <th>4</th>\n",
       "      <td>2</td>\n",
       "      <td>35</td>\n",
       "      <td>43</td>\n",
       "      <td>15739</td>\n",
       "    </tr>\n",
       "  </tbody>\n",
       "</table>\n",
       "</div>"
      ],
      "text/plain": [
       "   State  Start_Time  End_Time  Total_Cars\n",
       "0      0           0        11        5237\n",
       "1      1          11        23       15766\n",
       "2      0          23        31        3258\n",
       "3      1          31        35        5637\n",
       "4      2          35        43       15739"
      ]
     },
     "execution_count": 62,
     "metadata": {},
     "output_type": "execute_result"
    }
   ],
   "source": [
    "#load dataset\n",
    "num_buckets = 5\n",
    "file_name = \"CTMC_QMT_Bucket-\" + \"05\" + \".csv\"\n",
    "df = pd.read_csv(file_name)\n",
    "df.head()"
   ]
  },
  {
   "cell_type": "code",
   "execution_count": 63,
   "metadata": {},
   "outputs": [],
   "source": [
    "#MLE for the lambda parameters\n",
    "def MLE_lambda_np(df):\n",
    "    total_time = np.zeros(num_buckets)\n",
    "    total_occurrences = np.zeros(num_buckets)\n",
    "\n",
    "    for _, row in df.iterrows():\n",
    "        state = row['State']\n",
    "        time_in_state = row[\"End_Time\"] - row[\"Start_Time\"]\n",
    "        total_time[state] += time_in_state\n",
    "        total_occurrences[state] += 1\n",
    "\n",
    "    lambda_parameters = total_occurrences / total_time\n",
    "    return lambda_parameters\n",
    "\n",
    "#MLE for the transition matrix\n",
    "def MLE_transition_matrix_np(df):\n",
    "    transition_matrix = np.zeros((num_buckets, num_buckets))\n",
    "\n",
    "    for index, row in df.iterrows():\n",
    "        if index != len(df) - 1:\n",
    "            start_state = row['State']\n",
    "            end_state = df.iloc[index + 1]['State']\n",
    "            transition_matrix[start_state, end_state] += 1\n",
    "\n",
    "    for i in range(num_buckets):\n",
    "        transition_matrix[i] /= np.sum(transition_matrix[i])\n",
    "\n",
    "    return transition_matrix"
   ]
  },
  {
   "cell_type": "code",
   "execution_count": 64,
   "metadata": {},
   "outputs": [
    {
     "name": "stdout",
     "output_type": "stream",
     "text": [
      "[0.16797951 0.38206415 0.27447872 0.55662235 0.46984225]\n",
      "[[0.   0.94 0.06 0.   0.  ]\n",
      " [0.5  0.   0.39 0.11 0.  ]\n",
      " [0.   0.48 0.   0.45 0.07]\n",
      " [0.   0.01 0.74 0.   0.25]\n",
      " [0.   0.   0.09 0.91 0.  ]]\n"
     ]
    },
    {
     "data": {
      "image/png": "[encoded data removed]",
      "text/plain": [
       "<Figure size 720x504 with 2 Axes>"
      ]
     },
     "metadata": {
      "needs_background": "light"
     },
     "output_type": "display_data"
    }
   ],
   "source": [
    "lambda_parameters = MLE_lambda_np(df)\n",
    "print(lambda_parameters)\n",
    "\n",
    "transition_matrix = MLE_transition_matrix_np(df)\n",
    "transition_matrix = np.round(transition_matrix, 2)\n",
    "print(transition_matrix)\n",
    "\n",
    "\n",
    "#plot transition matrix\n",
    "plt.figure(figsize=(10, 7))\n",
    "sns.heatmap(transition_matrix, annot=True)\n",
    "#make the heatmap bigger\n",
    "plt.show()\n",
    "\n"
   ]
  },
  {
   "cell_type": "code",
   "execution_count": 65,
   "metadata": {},
   "outputs": [
    {
     "name": "stdout",
     "output_type": "stream",
     "text": [
      "0.94\n"
     ]
    }
   ],
   "source": [
    "#greatest value in the transition matrix\n",
    "max_val = np.max(transition_matrix)\n",
    "print(max_val)\n"
   ]
  },
  {
   "cell_type": "code",
   "execution_count": 66,
   "metadata": {},
   "outputs": [
    {
     "name": "stdout",
     "output_type": "stream",
     "text": [
      "[0.25383376 0.22320267 0.33745658 0.13247222 0.05303477]\n"
     ]
    }
   ],
   "source": [
    "#create Q matrix where Qij = lambda_i * Pij if i != j and Qii = -lambda_i\n",
    "def create_Q(lambda_parameters, transition_matrix):\n",
    "    Q = np.zeros((num_buckets, num_buckets))\n",
    "    for i in range(num_buckets):\n",
    "        for j in range(num_buckets):\n",
    "            if i != j:\n",
    "                Q[i, j] = lambda_parameters[i] * transition_matrix[i, j]\n",
    "            else:\n",
    "                Q[i, j] = -lambda_parameters[i]\n",
    "    return Q\n",
    "\n",
    "#calculate the stationary distribution\n",
    "def calculate_stationary_distribution(Q):\n",
    "    Q = Q.T\n",
    "    Q[-1] = np.ones(num_buckets)\n",
    "    b = np.zeros(num_buckets)\n",
    "    b[-1] = 1\n",
    "    return np.linalg.solve(Q, b)\n",
    "\n",
    "Q = create_Q(lambda_parameters, transition_matrix)\n",
    "stationary_distribution = calculate_stationary_distribution(Q)\n",
    "print(stationary_distribution)"
   ]
  },
  {
   "cell_type": "code",
   "execution_count": 67,
   "metadata": {},
   "outputs": [
    {
     "data": {
      "image/png": "[encoded data removed]",
      "text/plain": [
       "<Figure size 720x504 with 1 Axes>"
      ]
     },
     "metadata": {
      "needs_background": "light"
     },
     "output_type": "display_data"
    }
   ],
   "source": [
    "#plot the stationary distribution and include all the ticks on the x-axis\n",
    "plt.figure(figsize=(10, 7))\n",
    "plt.bar(range(num_buckets), stationary_distribution)\n",
    "plt.xticks(range(num_buckets))\n",
    "plt.title(\"Stationary Distribution for 5-State CTMC\")\n",
    "plt.xlabel(\"State\")\n",
    "plt.ylabel(\"Probability\")\n",
    "plt.show()\n"
   ]
  }
 ],
 "metadata": {
  "kernelspec": {
   "display_name": "Python 3",
   "language": "python",
   "name": "python3"
  },
  "language_info": {
   "codemirror_mode": {
    "name": "ipython",
    "version": 3
   },
   "file_extension": ".py",
   "mimetype": "text/x-python",
   "name": "python",
   "nbconvert_exporter": "python",
   "pygments_lexer": "ipython3",
   "version": "3.8.0"
  }
 },
 "nbformat": 4,
 "nbformat_minor": 2
}
